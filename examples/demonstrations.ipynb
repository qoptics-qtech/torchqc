{
 "cells": [
  {
   "cell_type": "code",
   "execution_count": 37,
   "metadata": {},
   "outputs": [],
   "source": [
    "from torchqc.states import QuantumState\n",
    "import numpy as np\n",
    "import torch"
   ]
  },
  {
   "cell_type": "code",
   "execution_count": 38,
   "metadata": {},
   "outputs": [
    {
     "name": "stdout",
     "output_type": "stream",
     "text": [
      "tensor([[1.+0.j],\n",
      "        [0.+0.j]], dtype=torch.complex128)\n",
      "torch.Size([2, 1])\n"
     ]
    }
   ],
   "source": [
    "qubit_state = QuantumState.basis(2)[0]\n",
    "print(qubit_state.state_tensor)\n",
    "print(qubit_state.state_tensor.shape)"
   ]
  },
  {
   "cell_type": "code",
   "execution_count": 39,
   "metadata": {},
   "outputs": [
    {
     "name": "stdout",
     "output_type": "stream",
     "text": [
      "tensor([[0.7071+0.j]], dtype=torch.complex128)\n"
     ]
    }
   ],
   "source": [
    "basis_states = QuantumState.basis(2)\n",
    "\n",
    "arbitrary_state = (basis_states[0] + basis_states[1]).normalize()\n",
    "\n",
    "inner_product_value = arbitrary_state.inner_product(basis_states[0])\n",
    "print(inner_product_value)"
   ]
  },
  {
   "cell_type": "code",
   "execution_count": 40,
   "metadata": {},
   "outputs": [
    {
     "name": "stdout",
     "output_type": "stream",
     "text": [
      "Composition =  tensor([[0.+1.j, 0.+0.j],\n",
      "        [0.+0.j, 0.-1.j]], dtype=torch.complex128)\n",
      "Addition =  tensor([[0.+0.j, 1.-1.j],\n",
      "        [1.+1.j, 0.+0.j]], dtype=torch.complex128)\n",
      "New state =  tensor([[0.+0.j],\n",
      "        [1.+0.j]], dtype=torch.complex128)\n"
     ]
    }
   ],
   "source": [
    "from torchqc.operators import Operator, DynamicOperator\n",
    "\n",
    "# define operators\n",
    "sigmax = Operator(dims=2, matrix=torch.from_numpy(\n",
    "    np.array([[0.j, 1], [1, 0]])))\n",
    "sigmay = Operator(dims=2, matrix=torch.from_numpy(\n",
    "    np.array([[0., -1.j], [1.j, 0]])))\n",
    "\n",
    "# operators composition\n",
    "composition = sigmax * sigmay\n",
    "print(\"Composition = \", composition.matrix)\n",
    "\n",
    "# operators addition\n",
    "addition = sigmax + sigmay\n",
    "print(\"Addition = \", addition.matrix)\n",
    "\n",
    "# oprator acts on a state vector\n",
    "zero_state = QuantumState.basis(2)[0]\n",
    "one_state = sigmax.mul(zero_state)\n",
    "print(\"New state = \", one_state.state_tensor)"
   ]
  },
  {
   "cell_type": "code",
   "execution_count": null,
   "metadata": {},
   "outputs": [
    {
     "name": "stdout",
     "output_type": "stream",
     "text": [
      "tensor([[[ 0.+0.j,  1.+0.j],\n",
      "         [ 1.+0.j,  0.+0.j]],\n",
      "\n",
      "        [[ 1.+0.j,  0.+0.j],\n",
      "         [ 0.+0.j, -1.+0.j]],\n",
      "\n",
      "        [[ 0.+0.j,  1.+0.j],\n",
      "         [ 1.+0.j,  0.+0.j]],\n",
      "\n",
      "        [[ 1.+0.j,  0.+0.j],\n",
      "         [ 0.+0.j, -1.+0.j]],\n",
      "\n",
      "        [[ 0.+0.j,  1.+0.j],\n",
      "         [ 1.+0.j,  0.+0.j]]], dtype=torch.complex128)\n"
     ]
    }
   ],
   "source": [
    "from torchqc.common_matrices import sigmaX, sigmaZ\n",
    "\n",
    "time = np.arange(0, 1, 0.2)\n",
    "\n",
    "def Ht(t, args = []):\n",
    "    index = int(np.where(time == t.numpy()[0])[0][0])\n",
    "\n",
    "    if index % 2 == 0:\n",
    "        return sigmaX().matrix\n",
    "    else:\n",
    "        return sigmaZ().matrix\n",
    "    \n",
    "Ht = DynamicOperator(dims=2, Ht=Ht, time=time)"
   ]
  },
  {
   "cell_type": "code",
   "execution_count": 42,
   "metadata": {},
   "outputs": [
    {
     "name": "stdout",
     "output_type": "stream",
     "text": [
      "tensor([[1.+0.j, 0.+0.j],\n",
      "        [0.+0.j, 0.+0.j]], dtype=torch.complex128)\n"
     ]
    }
   ],
   "source": [
    "from torchqc.states import QuantumState\n",
    "from torchqc.common_functions import get_density_matrix\n",
    "\n",
    "zero_state = QuantumState.basis(2)[0]\n",
    "rho = get_density_matrix(zero_state)\n",
    "print(rho.matrix)"
   ]
  },
  {
   "cell_type": "code",
   "execution_count": 43,
   "metadata": {},
   "outputs": [
    {
     "name": "stdout",
     "output_type": "stream",
     "text": [
      "Composite state =  tensor([[ 0.5000+0.j],\n",
      "        [-0.5000+0.j],\n",
      "        [ 0.5000+0.j],\n",
      "        [-0.5000+0.j]], dtype=torch.complex128)\n",
      "Product dims =  [2, 2]\n",
      "Density matrix 1 =  tensor([[0.5000+0.j, 0.5000+0.j],\n",
      "        [0.5000+0.j, 0.5000+0.j]], dtype=torch.complex128)\n",
      "Density matrix 2 =  tensor([[ 0.5000+0.j, -0.5000+0.j],\n",
      "        [-0.5000+0.j,  0.5000-0.j]], dtype=torch.complex128)\n",
      "Composite density matrix =  tensor([[ 0.2500+0.j, -0.2500+0.j,  0.2500+0.j, -0.2500+0.j],\n",
      "        [-0.2500+0.j,  0.2500+0.j, -0.2500+0.j,  0.2500+0.j],\n",
      "        [ 0.2500+0.j, -0.2500+0.j,  0.2500+0.j, -0.2500+0.j],\n",
      "        [-0.2500+0.j,  0.2500+0.j, -0.2500+0.j,  0.2500+0.j]],\n",
      "       dtype=torch.complex128)\n",
      "Product dims =  [2, 2]\n",
      "\n",
      "Tracing out system 2:\n",
      "Density matrix 1 (by partial trace):  tensor([[0.5000+0.j, 0.5000+0.j],\n",
      "        [0.5000+0.j, 0.5000+0.j]], dtype=torch.complex128)\n",
      "Tracing out system 1:\n",
      "Density matrix 2 (by partial trace):  tensor([[ 0.5000+0.j, -0.5000+0.j],\n",
      "        [-0.5000+0.j,  0.5000+0.j]], dtype=torch.complex128)\n"
     ]
    }
   ],
   "source": [
    "from torchqc.tensor_product import tensor_product_ops, \\\n",
    "        tensor_product_states, partial_trace\n",
    "\n",
    "basis_states = QuantumState.basis(2)\n",
    "psi_1 = (basis_states[0] + basis_states[1]).normalize()\n",
    "psi_2 = (basis_states[0] - basis_states[1]).normalize()\n",
    "\n",
    "psi = tensor_product_states(psi_1, psi_2)\n",
    "print(\"Composite state = \", psi.state_tensor)\n",
    "print(\"Product dims = \", psi.product_dims)\n",
    "\n",
    "rho_1 = get_density_matrix(psi_1)\n",
    "rho_2 = get_density_matrix(psi_2)\n",
    "\n",
    "print(\"Density matrix 1 = \", rho_1.matrix)\n",
    "print(\"Density matrix 2 = \", rho_2.matrix)\n",
    "\n",
    "rho = tensor_product_ops(rho_1, rho_2)\n",
    "print(\"Composite density matrix = \", rho.matrix)\n",
    "print(\"Product dims = \", rho.product_dims)\n",
    "\n",
    "print(\"\\nTracing out system 2:\")\n",
    "rho_1 = partial_trace(rho, [1])\n",
    "print(\"Density matrix 1 (by partial trace): \", rho_1.matrix)\n",
    "\n",
    "print(\"Tracing out system 1:\")\n",
    "rho_2 = partial_trace(rho, [0])\n",
    "print(\"Density matrix 2 (by partial trace): \", rho_2.matrix)"
   ]
  },
  {
   "cell_type": "code",
   "execution_count": 44,
   "metadata": {},
   "outputs": [
    {
     "data": {
      "text/plain": [
       "tensor(1.0000, dtype=torch.float64)"
      ]
     },
     "execution_count": 44,
     "metadata": {},
     "output_type": "execute_result"
    }
   ],
   "source": [
    "from torchqc.common_functions import bell_states, concurrence\n",
    "\n",
    "states = bell_states()\n",
    "rho = get_density_matrix(states[0])\n",
    "concurrence(rho)"
   ]
  },
  {
   "cell_type": "code",
   "execution_count": 45,
   "metadata": {},
   "outputs": [],
   "source": [
    "def QMCT(initial_state: QuantumState, hamiltonian: Operator, time: np.ndarray, Dt: float, jump_operators: list = [], damp_rates = []) -> list:\n",
    "    r\"\"\"\n",
    "    QMCT(initial_state: QuantumState, hamiltonian: Operator, time: np.array, Dt: float, jump_operators: list = [], damp_rates = []) -> list\n",
    "    \n",
    "    Returns a list of states as the qunatum system evolves in time\n",
    "    \n",
    "    The shapes of the :attr:`initial_state` and the :attr:`hamiltonian` tensor need\n",
    "    to match.\n",
    "    \n",
    "    Args:\n",
    "        initial_state (QuantumState): the initial quantum state.\n",
    "        hamiltonian  (Operator): hamiltonian matrix or matrices\n",
    "        time (np.ndarray): time in discrete time steps\n",
    "        Dt (float): time step duration\n",
    "        jump_operators: list[Operator]\n",
    "            list of jump operators\n",
    "        damp_rates: list[float]\n",
    "            list of jump rates\n",
    "    \"\"\"\n",
    "\n",
    "\n",
    "    Heff = hamiltonian\n",
    "\n",
    "    for rate, jump_op in zip(damp_rates, jump_operators):\n",
    "        Heff -= (1j / 2) * rate * jump_op.dagger() * jump_op\n",
    "\n",
    "    time_tensor = torch.from_numpy(time).reshape(len(time), 1)\n",
    "    time_tensor.requires_grad_(True)\n",
    "\n",
    "    current_state = initial_state\n",
    "    states = [initial_state]\n",
    "\n",
    "    for i in range(len(time_tensor) - 1):\n",
    "        Ht = Heff\n",
    "        \n",
    "        current_state_tensor = torch.matmul(torch.linalg.matrix_exp(-1j * Ht * Dt), current_state.state_tensor)\n",
    "        \n",
    "        current_state = QuantumState(current_state.dims, current_state_tensor)\n",
    "        states.append(current_state)\n",
    "\n",
    "    # if initial state is product state\n",
    "    if initial_state.is_product:\n",
    "        product_dims = initial_state.product_dims\n",
    "\n",
    "        for state in states:\n",
    "            state.is_product = True\n",
    "            state.product_dims = product_dims\n",
    "\n",
    "    return states"
   ]
  }
 ],
 "metadata": {
  "kernelspec": {
   "display_name": "qc_torch",
   "language": "python",
   "name": "python3"
  },
  "language_info": {
   "codemirror_mode": {
    "name": "ipython",
    "version": 3
   },
   "file_extension": ".py",
   "mimetype": "text/x-python",
   "name": "python",
   "nbconvert_exporter": "python",
   "pygments_lexer": "ipython3",
   "version": "3.12.7"
  }
 },
 "nbformat": 4,
 "nbformat_minor": 2
}
