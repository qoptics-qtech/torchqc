{
 "cells": [
  {
   "cell_type": "code",
   "execution_count": 1,
   "metadata": {},
   "outputs": [],
   "source": [
    "import sys\n",
    "sys.path.append('../')\n",
    "import numpy as np\n",
    "import matplotlib.pyplot as plt\n",
    "\n",
    "from torchqc.states import QuantumState\n",
    "from torchqc.common_functions import expect_val_dm, steadystate\n",
    "from torchqc.common_matrices import annihilation, creation"
   ]
  },
  {
   "cell_type": "markdown",
   "metadata": {},
   "source": [
    "* Find steady state with qutip"
   ]
  },
  {
   "cell_type": "code",
   "execution_count": 2,
   "metadata": {},
   "outputs": [
    {
     "data": {
      "text/plain": [
       "1.9939836175049204"
      ]
     },
     "execution_count": 2,
     "metadata": {},
     "output_type": "execute_result"
    }
   ],
   "source": [
    "import numpy as np\n",
    "import matplotlib.pyplot as plt\n",
    "\n",
    "import qutip\n",
    "\n",
    "# Define paramters\n",
    "N = 20  # number of basis states to consider\n",
    "a = qutip.destroy(N)\n",
    "H = a.dag() * a\n",
    "psi0 = qutip.basis(N, 10)  # initial state\n",
    "kappa = 0.1  # coupling to oscillator\n",
    "\n",
    "# collapse operators\n",
    "c_op_list = []\n",
    "n_th_a = 2  # temperature with average of 2 excitations\n",
    "rate = kappa * (1 + n_th_a)\n",
    "if rate > 0.0:\n",
    "    c_op_list.append(np.sqrt(rate) * a)  # decay operators\n",
    "rate = kappa * n_th_a\n",
    "if rate > 0.0:\n",
    "    c_op_list.append(np.sqrt(rate) * a.dag())  # excitation operators\n",
    "\n",
    "\n",
    "# find steady-state solution\n",
    "final_state = qutip.steadystate(H, c_op_list)\n",
    "# find expectation value for particle number in steady state\n",
    "fexpt = qutip.expect(a.dag() * a, final_state)\n",
    "\n",
    "fexpt"
   ]
  },
  {
   "cell_type": "markdown",
   "metadata": {},
   "source": [
    "* Find steady state with TorchQC"
   ]
  },
  {
   "cell_type": "code",
   "execution_count": 3,
   "metadata": {},
   "outputs": [],
   "source": [
    "N = 20 # number of fock states\n",
    "initial_state = QuantumState.basis(N)[10]"
   ]
  },
  {
   "cell_type": "code",
   "execution_count": 4,
   "metadata": {},
   "outputs": [],
   "source": [
    "kappa = 0.1  # coupling to oscillator\n",
    "n_th_a = 2  # temperature with average of 2 excitations\n",
    "\n",
    "a = annihilation(N)\n",
    "a_dagger = creation(N)\n",
    "\n",
    "jump_ops = [a, a_dagger]\n",
    "rates = [kappa * (1 + n_th_a), kappa * n_th_a]\n",
    "\n",
    "H = a_dagger * a"
   ]
  },
  {
   "cell_type": "markdown",
   "metadata": {},
   "source": [
    "* Two methods to compute steady state"
   ]
  },
  {
   "cell_type": "code",
   "execution_count": 5,
   "metadata": {},
   "outputs": [
    {
     "name": "stdout",
     "output_type": "stream",
     "text": [
      "tensor(1.9940, dtype=torch.float64)\n",
      "tensor(1.9940, dtype=torch.float64)\n"
     ]
    }
   ],
   "source": [
    "steady_state = steadystate(H, jump_ops, rates, method=\"SVD\")\n",
    "final_state_exp_val = expect_val_dm(steady_state, a_dagger * a)\n",
    "print(final_state_exp_val)\n",
    "\n",
    "steady_state = steadystate(H, jump_ops, rates, method=\"inf\")\n",
    "final_state_exp_val = expect_val_dm(steady_state, a_dagger * a)\n",
    "print(final_state_exp_val)"
   ]
  }
 ],
 "metadata": {
  "kernelspec": {
   "display_name": "qc_torch",
   "language": "python",
   "name": "python3"
  },
  "language_info": {
   "codemirror_mode": {
    "name": "ipython",
    "version": 3
   },
   "file_extension": ".py",
   "mimetype": "text/x-python",
   "name": "python",
   "nbconvert_exporter": "python",
   "pygments_lexer": "ipython3",
   "version": "3.12.7"
  }
 },
 "nbformat": 4,
 "nbformat_minor": 2
}
