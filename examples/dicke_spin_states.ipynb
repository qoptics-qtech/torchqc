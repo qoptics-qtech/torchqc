{
 "cells": [
  {
   "cell_type": "code",
   "execution_count": 42,
   "metadata": {},
   "outputs": [],
   "source": [
    "import numpy as np\n",
    "import matplotlib.pyplot as plt\n",
    "import math\n",
    "\n",
    "from torchqc.common_functions import expect_val\n",
    "from torchqc.spin import get_dicke_spin_state, get_dicke_state, get_sigma_total, get_spin_coherent_state\n",
    "\n",
    "%matplotlib inline"
   ]
  },
  {
   "cell_type": "markdown",
   "metadata": {},
   "source": [
    "* System parameters"
   ]
  },
  {
   "cell_type": "code",
   "execution_count": null,
   "metadata": {},
   "outputs": [],
   "source": [
    "n = 2\n",
    "s = 1 # spin 1\n",
    "N = 3 # 3 spin-1 particles\n",
    "j = 2 * s + 1 # total spin number"
   ]
  },
  {
   "cell_type": "markdown",
   "metadata": {},
   "source": [
    "* Use definition with total spins and number state to create the dicke states"
   ]
  },
  {
   "cell_type": "code",
   "execution_count": 44,
   "metadata": {},
   "outputs": [],
   "source": [
    "D_3_0 = get_dicke_state(s, N, 0)\n",
    "D_3_1 = get_dicke_state(s, N, 1)\n",
    "D_3_2 = get_dicke_state(s, N, 2)\n",
    "D_3_3 = get_dicke_state(s, N, 3)\n",
    "D_3_4 = get_dicke_state(s, N, 4)\n",
    "D_3_5 = get_dicke_state(s, N, 5)\n",
    "D_3_6 = get_dicke_state(s, N, 6)"
   ]
  },
  {
   "cell_type": "code",
   "execution_count": 45,
   "metadata": {},
   "outputs": [
    {
     "name": "stdout",
     "output_type": "stream",
     "text": [
      "D_3_0:  tensor([[3.]], dtype=torch.float64)\n",
      "D_3_1:  tensor([[2.]], dtype=torch.float64)\n",
      "D_3_2:  tensor([[1.0000]], dtype=torch.float64)\n",
      "D_3_3:  tensor([[0.]], dtype=torch.float64)\n",
      "D_3_0:  tensor([[-1.0000]], dtype=torch.float64)\n",
      "D_3_1:  tensor([[-2.]], dtype=torch.float64)\n",
      "D_3_2:  tensor([[-3.]], dtype=torch.float64)\n"
     ]
    }
   ],
   "source": [
    "Sz_total = get_sigma_total(N, s, 'z')\n",
    "print(\"D_3_0: \", expect_val(D_3_0, Sz_total))\n",
    "print(\"D_3_1: \", expect_val(D_3_1, Sz_total))\n",
    "print(\"D_3_2: \", expect_val(D_3_2, Sz_total))\n",
    "print(\"D_3_3: \", expect_val(D_3_3, Sz_total))\n",
    "print(\"D_3_0: \", expect_val(D_3_4, Sz_total))\n",
    "print(\"D_3_1: \", expect_val(D_3_5, Sz_total))\n",
    "print(\"D_3_2: \", expect_val(D_3_6, Sz_total))"
   ]
  },
  {
   "cell_type": "markdown",
   "metadata": {},
   "source": [
    "* Use definition with total spin number and z-axis projection |j,m>"
   ]
  },
  {
   "cell_type": "code",
   "execution_count": 46,
   "metadata": {},
   "outputs": [],
   "source": [
    "j_m_1 = get_dicke_spin_state(N, s, j, 3)    # |3,+3>\n",
    "j_m_2 = get_dicke_spin_state(N, s, j, 2)    # |3,+2>\n",
    "j_m_3 = get_dicke_spin_state(N, s, j, 1)    # |3,+1>\n",
    "j_m_4 = get_dicke_spin_state(N, s, j, 0)   # |3,0>\n",
    "j_m_5 = get_dicke_spin_state(N, s, j, -1)   # |3,-1>\n",
    "j_m_6 = get_dicke_spin_state(N, s, j, -2)   # |3,-2>\n",
    "j_m_7 = get_dicke_spin_state(N, s, j, -3)   # |3,-3>"
   ]
  },
  {
   "cell_type": "code",
   "execution_count": 47,
   "metadata": {},
   "outputs": [
    {
     "name": "stdout",
     "output_type": "stream",
     "text": [
      "j_m_1:  tensor([[3.]], dtype=torch.float64)\n",
      "j_m_2:  tensor([[2.]], dtype=torch.float64)\n",
      "j_m_3:  tensor([[1.0000]], dtype=torch.float64)\n",
      "j_m_4:  tensor([[0.]], dtype=torch.float64)\n",
      "j_m_5:  tensor([[-1.0000]], dtype=torch.float64)\n",
      "j_m_6:  tensor([[-2.]], dtype=torch.float64)\n",
      "j_m_7:  tensor([[-3.]], dtype=torch.float64)\n"
     ]
    }
   ],
   "source": [
    "print(\"j_m_1: \", expect_val(j_m_1, Sz_total))\n",
    "print(\"j_m_2: \", expect_val(j_m_2, Sz_total))\n",
    "print(\"j_m_3: \", expect_val(j_m_3, Sz_total))\n",
    "print(\"j_m_4: \", expect_val(j_m_4, Sz_total))\n",
    "print(\"j_m_5: \", expect_val(j_m_5, Sz_total))\n",
    "print(\"j_m_6: \", expect_val(j_m_6, Sz_total))\n",
    "print(\"j_m_7: \", expect_val(j_m_7, Sz_total))"
   ]
  },
  {
   "cell_type": "markdown",
   "metadata": {},
   "source": [
    "* Coherent spin state"
   ]
  },
  {
   "cell_type": "code",
   "execution_count": 48,
   "metadata": {},
   "outputs": [],
   "source": [
    "θ = np.pi\n",
    "φ = 0\n",
    "coherent_spin_state = get_spin_coherent_state(N, s, j, θ, φ)"
   ]
  }
 ],
 "metadata": {
  "kernelspec": {
   "display_name": "qc_torch",
   "language": "python",
   "name": "python3"
  },
  "language_info": {
   "codemirror_mode": {
    "name": "ipython",
    "version": 3
   },
   "file_extension": ".py",
   "mimetype": "text/x-python",
   "name": "python",
   "nbconvert_exporter": "python",
   "pygments_lexer": "ipython3",
   "version": "3.12.9"
  }
 },
 "nbformat": 4,
 "nbformat_minor": 2
}
