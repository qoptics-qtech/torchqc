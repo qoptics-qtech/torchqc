{
 "cells": [
  {
   "cell_type": "code",
   "execution_count": 42,
   "metadata": {},
   "outputs": [],
   "source": [
    "import numpy as np\n",
    "import matplotlib.pyplot as plt\n",
    "import math\n",
    "\n",
    "from torchqc.states import QuantumState\n",
    "from torchqc.common_matrices import sigmaX, sigmaY, sigmaZ, eye, displacement_operator\n",
    "from torchqc.common_functions import fidelity, expect_val, get_density_matrix\n",
    "from torchqc.dynamics import TDSE\n",
    "from torchqc.operators import DynamicOperator\n",
    "from torchqc.spin import get_dicke_spin_state, get_dicke_state, get_sigma_total, get_spin_coherent_state\n",
    "\n",
    "%matplotlib inline"
   ]
  },
  {
   "cell_type": "markdown",
   "metadata": {},
   "source": [
    "* System parameters"
   ]
  },
  {
   "cell_type": "code",
   "execution_count": 43,
   "metadata": {},
   "outputs": [],
   "source": [
    "n = 2\n",
    "N = 3 # 3 1/2-spins\n",
    "j = N / 2 # total spin number\n",
    "χ = 1\n",
    "\n",
    "Dt = 0.1\n",
    "T = 7\n",
    "\n",
    "total_dims = 2 ** N\n",
    "\n",
    "time = np.arange(0, T, Dt, dtype = np.float32)"
   ]
  },
  {
   "cell_type": "markdown",
   "metadata": {},
   "source": [
    "* Use definition with total spins and number state to create the dicke states"
   ]
  },
  {
   "cell_type": "code",
   "execution_count": 44,
   "metadata": {},
   "outputs": [],
   "source": [
    "D_3_0 = get_dicke_state(N, 0)\n",
    "D_3_1 = get_dicke_state(N, 1)\n",
    "D_3_2 = get_dicke_state(N, 2)\n",
    "D_3_3 = get_dicke_state(N, 3)"
   ]
  },
  {
   "cell_type": "code",
   "execution_count": 45,
   "metadata": {},
   "outputs": [
    {
     "name": "stdout",
     "output_type": "stream",
     "text": [
      "D_3_0:  tensor([[1.5000]], dtype=torch.float64)\n",
      "D_3_1:  tensor([[0.5000]], dtype=torch.float64)\n",
      "D_3_2:  tensor([[-0.5000]], dtype=torch.float64)\n",
      "D_3_3:  tensor([[-1.5000]], dtype=torch.float64)\n"
     ]
    }
   ],
   "source": [
    "Sz_total = get_sigma_total(N, 'Sz')\n",
    "print(\"D_3_0: \", expect_val(D_3_0, Sz_total))\n",
    "print(\"D_3_1: \", expect_val(D_3_1, Sz_total))\n",
    "print(\"D_3_2: \", expect_val(D_3_2, Sz_total))\n",
    "print(\"D_3_3: \", expect_val(D_3_3, Sz_total))"
   ]
  },
  {
   "cell_type": "markdown",
   "metadata": {},
   "source": [
    "* Use definition with total spin number and z-axis projection |j,m>"
   ]
  },
  {
   "cell_type": "code",
   "execution_count": 46,
   "metadata": {},
   "outputs": [],
   "source": [
    "j_m_1 = get_dicke_spin_state(j, 3/2)    # |3/2,+3/2>\n",
    "j_m_2 = get_dicke_spin_state(j, 1/2)    # |3/2,+1/2>\n",
    "j_m_3 = get_dicke_spin_state(j, -1/2)   # |3/2,-1/2>\n",
    "j_m_4 = get_dicke_spin_state(j, -3/2)   # |3/2,-3/2>"
   ]
  },
  {
   "cell_type": "code",
   "execution_count": 47,
   "metadata": {},
   "outputs": [
    {
     "name": "stdout",
     "output_type": "stream",
     "text": [
      "j_m_1:  tensor([[1.5000]], dtype=torch.float64)\n",
      "j_m_2:  tensor([[0.5000]], dtype=torch.float64)\n",
      "j_m_3:  tensor([[-0.5000]], dtype=torch.float64)\n",
      "j_m_4:  tensor([[-1.5000]], dtype=torch.float64)\n"
     ]
    }
   ],
   "source": [
    "print(\"j_m_1: \", expect_val(j_m_1, Sz_total))\n",
    "print(\"j_m_2: \", expect_val(j_m_2, Sz_total))\n",
    "print(\"j_m_3: \", expect_val(j_m_3, Sz_total))\n",
    "print(\"j_m_4: \", expect_val(j_m_4, Sz_total))"
   ]
  },
  {
   "cell_type": "markdown",
   "metadata": {},
   "source": [
    "* Coherent spin state"
   ]
  },
  {
   "cell_type": "code",
   "execution_count": 48,
   "metadata": {},
   "outputs": [],
   "source": [
    "θ = np.pi\n",
    "φ = 0\n",
    "coherent_spin_state = get_spin_coherent_state(j, θ, φ)"
   ]
  }
 ],
 "metadata": {
  "kernelspec": {
   "display_name": "qc_torch",
   "language": "python",
   "name": "python3"
  },
  "language_info": {
   "codemirror_mode": {
    "name": "ipython",
    "version": 3
   },
   "file_extension": ".py",
   "mimetype": "text/x-python",
   "name": "python",
   "nbconvert_exporter": "python",
   "pygments_lexer": "ipython3",
   "version": "3.12.9"
  }
 },
 "nbformat": 4,
 "nbformat_minor": 2
}
