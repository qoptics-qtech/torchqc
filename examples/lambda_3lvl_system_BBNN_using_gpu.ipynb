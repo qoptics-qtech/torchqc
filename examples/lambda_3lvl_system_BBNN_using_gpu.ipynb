{
 "cells": [
  {
   "cell_type": "code",
   "execution_count": 122,
   "metadata": {},
   "outputs": [],
   "source": [
    "import numpy as np\n",
    "import torch\n",
    "import torch.nn as nn\n",
    "\n",
    "import matplotlib.pyplot as plt\n",
    "from torchqc.states import QuantumState\n",
    "from torchqc.common_functions import get_density_matrix, expect_val_dm\n",
    "from torchqc.operators import Operator\n",
    "from torchqc.common_matrices import sigmaY\n",
    "from torchqc.dynamics import TDSE\n",
    "from torchqc.common_functions import basis_operators\n",
    "from torchqc.common_functions import fidelity"
   ]
  },
  {
   "cell_type": "code",
   "execution_count": 123,
   "metadata": {},
   "outputs": [],
   "source": [
    "device = \"cpu\"\n",
    "\n",
    "if torch.cuda.is_available():\n",
    "    device = torch.device(\"cuda:0\")\n",
    "else:\n",
    "    device = torch.device(\"cpu\")"
   ]
  },
  {
   "cell_type": "markdown",
   "metadata": {},
   "source": [
    "* Define Neural Network"
   ]
  },
  {
   "cell_type": "code",
   "execution_count": 124,
   "metadata": {},
   "outputs": [],
   "source": [
    "max_control = 1.\n",
    "\n",
    "class NeuralNet(nn.Module):\n",
    "    def __init__(self, hidden_size, nb_hidden_layers = 2, input_size = 1, output_size = 1, activation_fn = nn.Tanh):\n",
    "        super(NeuralNet, self).__init__()\n",
    "\n",
    "        self.nb_hidden_layers = nb_hidden_layers\n",
    "        self.hidden_layers = []\n",
    "        self.hidden_act_layers = []\n",
    "\n",
    "        # input layer\n",
    "        self.input_layer = nn.Linear(input_size, hidden_size)\n",
    "        self.relu_input = activation_fn()\n",
    "\n",
    "        # hidden layers\n",
    "        for layer in range(nb_hidden_layers):\n",
    "            new_layer = nn.Linear(hidden_size, hidden_size)\n",
    "            self.hidden_layers.append(new_layer)\n",
    "            self.hidden_act_layers.append(activation_fn())\n",
    "            \n",
    "            # hidden layer parameters should be registered\n",
    "            self.register_parameter(f\"weights_{layer}\", new_layer.weight)\n",
    "            self.register_parameter(f\"bias_{layer}\", new_layer.bias)\n",
    "\n",
    "        # output layer\n",
    "        self.output_layer = nn.Linear(hidden_size, output_size)\n",
    "\n",
    "    def forward(self, x):\n",
    "        out = self.input_layer(x)\n",
    "        out = self.relu_input(out)\n",
    "\n",
    "        for layer in range(self.nb_hidden_layers):\n",
    "            out = self.hidden_layers[layer](out)\n",
    "            out = self.hidden_act_layers[layer](out)\n",
    "\n",
    "        out = self.output_layer(out)\n",
    "        out = torch.clip(input=out, min=-max_control, max=max_control)\n",
    "\n",
    "        return out"
   ]
  },
  {
   "cell_type": "code",
   "execution_count": 125,
   "metadata": {},
   "outputs": [],
   "source": [
    "class Sin(nn.Module):\n",
    "    \"\"\"The sin activation function.\n",
    "    \"\"\"\n",
    "\n",
    "    def __init__(self):\n",
    "        \"\"\"Initializer method.\n",
    "        \"\"\"\n",
    "        super().__init__()\n",
    "\n",
    "    def forward(self, input_):\n",
    "        return torch.sin(input_)"
   ]
  },
  {
   "cell_type": "markdown",
   "metadata": {},
   "source": [
    "* Start from basis state $\\ket{0}$"
   ]
  },
  {
   "cell_type": "code",
   "execution_count": 126,
   "metadata": {},
   "outputs": [
    {
     "data": {
      "text/plain": [
       "QuantumState (dims = 3 , tensor: tensor([[1.+0.j],\n",
       "        [0.+0.j],\n",
       "        [0.+0.j]], device='cuda:0', dtype=torch.complex128))"
      ]
     },
     "execution_count": 126,
     "metadata": {},
     "output_type": "execute_result"
    }
   ],
   "source": [
    "dims = 3\n",
    "basis_states = QuantumState.basis(dims)\n",
    "state = basis_states[0].to(device)\n",
    "state.normalize()"
   ]
  },
  {
   "cell_type": "markdown",
   "metadata": {},
   "source": [
    "* Simulate dynamics with TDSE"
   ]
  },
  {
   "cell_type": "code",
   "execution_count": 127,
   "metadata": {},
   "outputs": [],
   "source": [
    "T = 250\n",
    "Dt = 0.5\n",
    "time = np.arange(0, T + Dt, Dt, dtype = np.float32)\n",
    "Γ = 1"
   ]
  },
  {
   "cell_type": "code",
   "execution_count": 128,
   "metadata": {},
   "outputs": [
    {
     "data": {
      "text/plain": [
       "NeuralNet(\n",
       "  (input_layer): Linear(in_features=1, out_features=150, bias=True)\n",
       "  (relu_input): Sin()\n",
       "  (output_layer): Linear(in_features=150, out_features=2, bias=True)\n",
       ")"
      ]
     },
     "execution_count": 128,
     "metadata": {},
     "output_type": "execute_result"
    }
   ],
   "source": [
    "# torch.manual_seed(123456)\n",
    "BBNN = NeuralNet(hidden_size=150, input_size=1, output_size=2, nb_hidden_layers=4, activation_fn=Sin)\n",
    "BBNN.to(device)"
   ]
  },
  {
   "cell_type": "code",
   "execution_count": 129,
   "metadata": {},
   "outputs": [
    {
     "data": {
      "text/plain": [
       "tensor([[[-0.0046, -0.0046, -0.0046],\n",
       "         [-0.0046, -0.0046, -0.0046],\n",
       "         [-0.0046, -0.0046, -0.0046]],\n",
       "\n",
       "        [[ 0.0133,  0.0133,  0.0133],\n",
       "         [ 0.0133,  0.0133,  0.0133],\n",
       "         [ 0.0133,  0.0133,  0.0133]],\n",
       "\n",
       "        [[ 0.0335,  0.0335,  0.0335],\n",
       "         [ 0.0335,  0.0335,  0.0335],\n",
       "         [ 0.0335,  0.0335,  0.0335]],\n",
       "\n",
       "        ...,\n",
       "\n",
       "        [[-0.0238, -0.0238, -0.0238],\n",
       "         [-0.0238, -0.0238, -0.0238],\n",
       "         [-0.0238, -0.0238, -0.0238]],\n",
       "\n",
       "        [[-0.0395, -0.0395, -0.0395],\n",
       "         [-0.0395, -0.0395, -0.0395],\n",
       "         [-0.0395, -0.0395, -0.0395]],\n",
       "\n",
       "        [[-0.0547, -0.0547, -0.0547],\n",
       "         [-0.0547, -0.0547, -0.0547],\n",
       "         [-0.0547, -0.0547, -0.0547]]], device='cuda:0',\n",
       "       grad_fn=<ExpandBackward0>)"
      ]
     },
     "execution_count": 129,
     "metadata": {},
     "output_type": "execute_result"
    }
   ],
   "source": [
    "time_tensor = torch.from_numpy(time).reshape(len(time), 1).to(device)\n",
    "\n",
    "u_pred = BBNN(time_tensor)\n",
    "\n",
    "Ωp = u_pred[:, 0:1]\n",
    "Ωp.unsqueeze_(-1)\n",
    "Ωp.expand(len(time), dims, dims)\n",
    "\n",
    "Ωs = u_pred[:, 1:2]\n",
    "Ωs.unsqueeze_(-1)\n",
    "Ωs.expand(len(time), dims, dims)"
   ]
  },
  {
   "cell_type": "markdown",
   "metadata": {},
   "source": [
    "* Construct Hamiltonian and simulate dynamics with TDSE"
   ]
  },
  {
   "cell_type": "code",
   "execution_count": 130,
   "metadata": {},
   "outputs": [],
   "source": [
    "projectors, transitions, labels = basis_operators(dims)\n",
    "_, proj2, _ = projectors\n",
    "trans12, trans13, trans23 = transitions\n",
    "\n",
    "proj2 = proj2.to(device)\n",
    "trans12 = trans12.to(device)\n",
    "trans13 = trans13.to(device)\n",
    "trans23 = trans23.to(device)\n",
    "trans21 = trans12.dagger().to(device)\n",
    "trans32 = trans23.dagger().to(device)"
   ]
  },
  {
   "cell_type": "code",
   "execution_count": 131,
   "metadata": {},
   "outputs": [],
   "source": [
    "H1 = Operator(dims, (Ωp / 2) * ((trans12 + trans21).matrix.expand(len(Ωp), -1, -1)))\n",
    "H2 = Operator(dims, (Ωs / 2) * ((trans23 + trans32).matrix.expand(len(Ωs), -1, -1)))\n",
    "H_loss = -1j * (Γ / 2) * proj2\n",
    "H_loss = Operator(dims, H_loss.matrix.expand(len(Ωp), -1, -1))\n",
    "\n",
    "hamiltonian = H1 + H2 + H_loss\n",
    "\n",
    "states = TDSE(state, hamiltonian, time, Dt)"
   ]
  },
  {
   "cell_type": "code",
   "execution_count": 132,
   "metadata": {},
   "outputs": [],
   "source": [
    "def quantum_simulation(u_pred):\n",
    "    projectors, transitions, labels = basis_operators(dims)\n",
    "    _, proj2, _ = projectors\n",
    "    trans12, trans13, trans23 = transitions\n",
    "\n",
    "    proj2 = proj2.to(device)\n",
    "    trans12 = trans12.to(device)\n",
    "    trans13 = trans13.to(device)\n",
    "    trans23 = trans23.to(device)\n",
    "    trans21 = trans12.dagger().to(device)\n",
    "    trans32 = trans23.dagger().to(device)\n",
    "\n",
    "    Ωp = u_pred[:, 0:1]\n",
    "    Ωp.unsqueeze_(-1)\n",
    "    Ωp.expand(len(time), dims, dims)\n",
    "\n",
    "    Ωs = u_pred[:, 1:2]\n",
    "    Ωs.unsqueeze_(-1)\n",
    "    Ωs.expand(len(time), dims, dims)\n",
    "\n",
    "    H1 = Operator(dims, (Ωp / 2) * ((trans12 + trans21).matrix.expand(len(Ωp), -1, -1)))\n",
    "    H2 = Operator(dims, (Ωs / 2) * ((trans23 + trans32).matrix.expand(len(Ωs), -1, -1)))\n",
    "    H_loss = -1j * (Γ / 2) * proj2\n",
    "    H_loss = Operator(dims, H_loss.matrix.expand(len(Ωp), -1, -1))\n",
    "\n",
    "    hamiltonian = H1 + H2 + H_loss\n",
    "\n",
    "    basis_states = QuantumState.basis(dims)\n",
    "    initial_state = basis_states[0].to(device)\n",
    "\n",
    "    states = TDSE(initial_state, hamiltonian, time, Dt)\n",
    "\n",
    "    return states\n",
    "\n",
    "def criterion_fidelity_custom(u_pred):\n",
    "    basis_states = QuantumState.basis(dims)\n",
    "    target_state = basis_states[2].to(device)\n",
    "\n",
    "    states = quantum_simulation(u_pred)\n",
    "    \"\"\" state2_pop = torch.tensor([(torch.abs(state.state_tensor)**2)[1] for state in states])\n",
    "\n",
    "    state2_pop_loss = nn.MSELoss()(state2_pop, torch.zeros_like(state2_pop)) \"\"\"\n",
    "    \n",
    "    achieved_state = states[-1]\n",
    "\n",
    "    infidelity = 1 - fidelity(achieved_state, target_state)\n",
    "\n",
    "    return infidelity"
   ]
  },
  {
   "cell_type": "code",
   "execution_count": 133,
   "metadata": {},
   "outputs": [
    {
     "data": {
      "text/plain": [
       "tensor([[1.0000]], device='cuda:0', dtype=torch.float64,\n",
       "       grad_fn=<RsubBackward1>)"
      ]
     },
     "execution_count": 133,
     "metadata": {},
     "output_type": "execute_result"
    }
   ],
   "source": [
    "u_pred = BBNN(time_tensor)\n",
    "criterion_fidelity_custom(u_pred)"
   ]
  },
  {
   "cell_type": "markdown",
   "metadata": {},
   "source": [
    "* Training loop of the Deep NN using the defined objective function"
   ]
  },
  {
   "cell_type": "code",
   "execution_count": 134,
   "metadata": {},
   "outputs": [],
   "source": [
    "def training():\n",
    "    losses = []\n",
    "    loss_threshold = 1e-4\n",
    "    loss_float = 1\n",
    "    iterations = 1000\n",
    "\n",
    "    BBNN.train()\n",
    "\n",
    "    learning_rate = 1e-4\n",
    "    optimizer = torch.optim.Adam(BBNN.parameters(), lr=learning_rate)\n",
    "    print_interval = 100\n",
    "    num_epochs = 0\n",
    "\n",
    "    # while loss_float >= loss_threshold:\n",
    "    for iter in range(iterations):\n",
    "        # forward pass\n",
    "        u_pred = BBNN(time_tensor)\n",
    "        \n",
    "        # calculate loss based on controls that produced by the nn\n",
    "        loss = criterion_fidelity_custom(u_pred)\n",
    "        losses.append(loss.detach().cpu().numpy())\n",
    "\n",
    "        # backpropagation\n",
    "        optimizer.zero_grad()\n",
    "        loss.backward()\n",
    "        optimizer.step()\n",
    "\n",
    "        if num_epochs % print_interval == 0:\n",
    "            print(\"Epoch = \", num_epochs, \", Loss = \", loss.clone().detach().cpu().numpy())\n",
    "\n",
    "        num_epochs += 1\n",
    "\n",
    "        if losses[-1] < loss_threshold:\n",
    "            break"
   ]
  },
  {
   "cell_type": "code",
   "execution_count": 135,
   "metadata": {},
   "outputs": [
    {
     "name": "stdout",
     "output_type": "stream",
     "text": [
      "Epoch =  0 , Loss =  [[0.99998641]]\n",
      "Epoch =  100 , Loss =  [[0.06321762]]\n",
      "Epoch =  200 , Loss =  [[0.04095311]]\n",
      "Epoch =  300 , Loss =  [[0.03490653]]\n",
      "Epoch =  400 , Loss =  [[0.03360894]]\n",
      "Epoch =  500 , Loss =  [[0.03295939]]\n",
      "Epoch =  600 , Loss =  [[0.03213363]]\n",
      "Epoch =  700 , Loss =  [[0.03205579]]\n",
      "Epoch =  800 , Loss =  [[0.03206881]]\n",
      "Epoch =  900 , Loss =  [[0.03208174]]\n"
     ]
    }
   ],
   "source": [
    "training()"
   ]
  },
  {
   "cell_type": "code",
   "execution_count": 137,
   "metadata": {},
   "outputs": [],
   "source": [
    "with torch.no_grad():\n",
    "    epsilon = torch.normal(0, 0.1, size = (len(time_tensor), 1)).float().to(device)\n",
    "\n",
    "    t_test = time_tensor + epsilon\n",
    "    u_pred = BBNN(t_test)\n",
    "    Ωp = u_pred[:, 0:1].detach().cpu().numpy()\n",
    "    Ωp = np.array([omega[0] for omega in Ωp])\n",
    "    \n",
    "    Ωs = u_pred[:, 1:2].detach().cpu().numpy()\n",
    "    Ωs = np.array([omega[0] for omega in Ωs])\n",
    "\n",
    "    states = quantum_simulation(u_pred)\n"
   ]
  },
  {
   "cell_type": "markdown",
   "metadata": {},
   "source": [
    "* Print Conctrol functions and Populations"
   ]
  },
  {
   "cell_type": "code",
   "execution_count": 138,
   "metadata": {},
   "outputs": [
    {
     "data": {
      "text/plain": [
       "<matplotlib.legend.Legend at 0x7f3418ae7d10>"
      ]
     },
     "execution_count": 138,
     "metadata": {},
     "output_type": "execute_result"
    },
    {
     "data": {
      "image/png": "[encoded data removed]",
      "text/plain": [
       "<Figure size 640x480 with 1 Axes>"
      ]
     },
     "metadata": {},
     "output_type": "display_data"
    }
   ],
   "source": [
    "fig, ax = plt.subplots()\n",
    "\n",
    "ax.plot(time, Ωp, label = r\"$\\Omega_p$\")\n",
    "ax.plot(time, Ωs, label = r\"$\\Omega_s$\")\n",
    "ax.set_ylim(-1.1, 1.1)\n",
    "ax.legend()"
   ]
  },
  {
   "cell_type": "code",
   "execution_count": 140,
   "metadata": {},
   "outputs": [
    {
     "data": {
      "text/plain": [
       "<matplotlib.legend.Legend at 0x7f3418378a70>"
      ]
     },
     "execution_count": 140,
     "metadata": {},
     "output_type": "execute_result"
    },
    {
     "data": {
      "image/png": "[encoded data removed]",
      "text/plain": [
       "<Figure size 640x480 with 1 Axes>"
      ]
     },
     "metadata": {},
     "output_type": "display_data"
    }
   ],
   "source": [
    "populations = np.array([(torch.abs(state.state_tensor)**2).detach().cpu().numpy() for state in states])\n",
    "\n",
    "fig, ax = plt.subplots()\n",
    "\n",
    "ax.plot(time, populations[:,0], label = \"P1\")\n",
    "ax.plot(time, populations[:,1], label = \"P2\")\n",
    "ax.plot(time, populations[:,2], label = \"P3\")\n",
    "ax.legend()"
   ]
  }
 ],
 "metadata": {
  "kernelspec": {
   "display_name": "qc_torch",
   "language": "python",
   "name": "python3"
  },
  "language_info": {
   "codemirror_mode": {
    "name": "ipython",
    "version": 3
   },
   "file_extension": ".py",
   "mimetype": "text/x-python",
   "name": "python",
   "nbconvert_exporter": "python",
   "pygments_lexer": "ipython3",
   "version": "3.12.8"
  }
 },
 "nbformat": 4,
 "nbformat_minor": 2
}
