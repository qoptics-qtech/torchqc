{
 "cells": [
  {
   "cell_type": "code",
   "execution_count": 1235,
   "metadata": {},
   "outputs": [],
   "source": [
    "import numpy as np\n",
    "import torch\n",
    "import matplotlib.pyplot as plt\n",
    "\n",
    "from torchqc.states import QuantumState\n",
    "from torchqc.common_functions import get_density_matrix, expect_val, expect_val_dm, steadystate\n",
    "from torchqc.operators import DynamicOperator, Operator\n",
    "from torchqc.common_matrices import annihilation, creation\n",
    "from torchqc.dynamics import libland_equation, TDSE, TDSE_numeric\n",
    "from torchqc.runge_kutta_methods import runge_kutta45\n",
    "\n",
    "from random import sample\n",
    "from qutip import mcsolve, basis, destroy"
   ]
  },
  {
   "cell_type": "code",
   "execution_count": 1236,
   "metadata": {},
   "outputs": [],
   "source": [
    "N = 5  # number of basis states to consider\n",
    "kappa = 1.0 / 0.129  # coupling to heat bath\n",
    "nth = 0.063  # temperature with <n>=0.063\n",
    "\n",
    "tlist = np.linspace(0, 0.6, 100)"
   ]
  },
  {
   "cell_type": "code",
   "execution_count": 1237,
   "metadata": {},
   "outputs": [],
   "source": [
    "a = destroy(N)  # cavity destruction operator\n",
    "H = a.dag() * a  # harmonic oscillator Hamiltonian\n",
    "psi0 = basis(N, 1)  # initial Fock state with one photon: |1>\n",
    "\n",
    "# collapse operator list\n",
    "c_op_list = []\n",
    "\n",
    "# decay operator\n",
    "c_op_list.append(np.sqrt(kappa * (1 + nth)) * a)\n",
    "\n",
    "# excitation operator\n",
    "c_op_list.append(np.sqrt(kappa * nth) * a.dag())"
   ]
  },
  {
   "cell_type": "code",
   "execution_count": 1238,
   "metadata": {},
   "outputs": [
    {
     "name": "stdout",
     "output_type": "stream",
     "text": [
      "10.0%. Run time:   0.05s. Est. time left: 00:00:00:00\n",
      "20.0%. Run time:   0.11s. Est. time left: 00:00:00:00\n",
      "30.0%. Run time:   0.17s. Est. time left: 00:00:00:00\n",
      "40.0%. Run time:   0.23s. Est. time left: 00:00:00:00\n",
      "50.0%. Run time:   0.29s. Est. time left: 00:00:00:00\n",
      "60.0%. Run time:   0.35s. Est. time left: 00:00:00:00\n",
      "70.0%. Run time:   0.41s. Est. time left: 00:00:00:00\n",
      "80.0%. Run time:   0.46s. Est. time left: 00:00:00:00\n",
      "90.0%. Run time:   0.52s. Est. time left: 00:00:00:00\n",
      "100.0%. Run time:   0.57s. Est. time left: 00:00:00:00\n",
      "Total run time:   0.58s\n"
     ]
    }
   ],
   "source": [
    "ntraj = [100]  # list of number of trajectories to avg. over\n",
    "mc = []\n",
    "\n",
    "for n in ntraj:\n",
    "    result = mcsolve(H, psi0, tlist, c_op_list, e_ops=[a.dag() * a], ntraj=n)\n",
    "    mc.append(result)"
   ]
  },
  {
   "cell_type": "markdown",
   "metadata": {},
   "source": [
    "* Start from basis state $\\ket{0}$"
   ]
  },
  {
   "cell_type": "code",
   "execution_count": 1239,
   "metadata": {},
   "outputs": [],
   "source": [
    "N = 5  # number of basis states to consider\n",
    "kappa = 1.0 / 0.129  # coupling to heat bath\n",
    "nth = 0.063  # temperature with <n>=0.063\n",
    "\n",
    "T = 0.6\n",
    "Dt = 0.006\n",
    "time = np.arange(0, T + Dt, Dt, dtype = np.float32)\n",
    "\n",
    "basis_states = QuantumState.basis(N)\n",
    "initial_state = basis_states[1]"
   ]
  },
  {
   "cell_type": "markdown",
   "metadata": {},
   "source": [
    "* Simulate dynamics"
   ]
  },
  {
   "cell_type": "code",
   "execution_count": 1240,
   "metadata": {},
   "outputs": [],
   "source": [
    "a = annihilation(N)\n",
    "a_dagger = creation(N)\n",
    "jump_ops = [a, a_dagger]\n",
    "rates = [kappa * (1 + nth), kappa * nth]\n",
    "\n",
    "H = a_dagger * a\n",
    "hamiltonian = DynamicOperator(N, H, time=time)"
   ]
  },
  {
   "cell_type": "code",
   "execution_count": 1241,
   "metadata": {},
   "outputs": [],
   "source": [
    "rho = get_density_matrix(initial_state)\n",
    "_, states = libland_equation(rho, hamiltonian, time, Dt, jump_ops, rates, method='rk45')\n",
    "libland_exp_val = expect_val_dm(states, a_dagger * a)"
   ]
  },
  {
   "cell_type": "code",
   "execution_count": 1242,
   "metadata": {},
   "outputs": [],
   "source": [
    "rho_ss = steadystate(H, jump_ops, rates)\n",
    "N_ss = expect_val_dm(rho_ss, a_dagger * a)"
   ]
  },
  {
   "cell_type": "markdown",
   "metadata": {},
   "source": [
    "* Simulate dynamics with QMCT"
   ]
  },
  {
   "cell_type": "code",
   "execution_count": 1243,
   "metadata": {},
   "outputs": [],
   "source": [
    "def QMCT(initial_state: QuantumState, hamiltonian: DynamicOperator, time: np.ndarray, Dt: float, jump_operators: list, damp_rates: list, nb_tranj: int) -> list:\n",
    "    r\"\"\"\n",
    "    QMCT(initial_state: QuantumState, hamiltonian: Operator, time: np.array, Dt: float, jump_operators: list = [], damp_rates = []) -> list\n",
    "    \n",
    "    Returns a list of states as the qunatum system evolves in time\n",
    "    \n",
    "    The shapes of the :attr:`initial_state` and the :attr:`hamiltonian` tensor need\n",
    "    to match.\n",
    "    \n",
    "    Args:\n",
    "        initial_state (QuantumState): the initial quantum state.\n",
    "        hamiltonian  (Operator): hamiltonian matrix or matrices\n",
    "        time (np.ndarray): time in discrete time steps\n",
    "        Dt (float): time step duration\n",
    "        jump_operators: list[Operator]\n",
    "            list of jump operators\n",
    "        damp_rates: list[float]\n",
    "            list of jump rates\n",
    "    \"\"\"\n",
    "\n",
    "    time_tensor = torch.from_numpy(time).reshape(len(time), 1)\n",
    "    time_tensor.requires_grad_(True)\n",
    "\n",
    "    trajectories = []\n",
    "\n",
    "    # while traj_index < nb_tranj:\n",
    "    for j in range(nb_tranj):\n",
    "        current_state = initial_state\n",
    "        states = [current_state]\n",
    "\n",
    "        # generate random number r\n",
    "        norm_lb = torch.rand(1)\n",
    "\n",
    "        for i in range(len(time_tensor) - 1):\n",
    "            Ht = hamiltonian.matrix[i]\n",
    "\n",
    "            # construct effective hamiltonian\n",
    "            Heff = Ht\n",
    "\n",
    "            for rate, jump_op in zip(damp_rates, jump_operators):\n",
    "                Heff += (- 1j / 2) * rate * (jump_op.dagger() * jump_op).matrix\n",
    "            \n",
    "            # current_state_tensor = torch.matmul(torch.linalg.matrix_exp(-1j * Heff * Dt), current_state.state_tensor)\n",
    "            # current_state = QuantumState(N, current_state_tensor)\n",
    "            \n",
    "            small_time = time = np.arange(0, 2 * Dt, Dt, dtype = np.float32)\n",
    "            small_states = TDSE(current_state, DynamicOperator(hamiltonian.dims, Operator(N, Heff), time=small_time), small_time, Dt)\n",
    "\n",
    "            current_state = small_states[-1]\n",
    "\n",
    "            # calculate norm\n",
    "            norm_squared = current_state.norm() ** 2\n",
    "\n",
    "            # print(\"Norm squared = \", norm_squared)\n",
    "\n",
    "            sum = 0\n",
    "            for rate, jump_op in zip(damp_rates, jump_operators):\n",
    "                sum += rate * current_state.inner_product((jump_op.dagger() * jump_op).mul(current_state))\n",
    "                \n",
    "            dp = Dt * torch.abs(sum)\n",
    "            \n",
    "            # when the norm drops the lb, then perform a quantum jump\n",
    "            if norm_squared < norm_lb:\n",
    "                # print(\"Quantum jump\")\n",
    "                # randomly sample one jump operator from list of jump ops based on certain weights\n",
    "\n",
    "                # weights = np.array([(torch.real(rate * current_state.inner_product((op.dagger() * op).mul(current_state))) / dp)[0][0] for op, rate in zip(jump_operators, damp_rates)])\n",
    "                # weights_distr = weights / (np.sum(weights))\n",
    "\n",
    "                # weights = np.array([torch.real(rate * current_state.inner_product((op.dagger() * op).mul(current_state)))[0][0] for op, rate in zip(jump_operators, damp_rates)])\n",
    "                weights = np.array([rate * torch.abs(current_state.inner_product((op.dagger() * op).mul(current_state)))[0][0] for op, rate in zip(jump_operators, damp_rates)])\n",
    "                \n",
    "                # weights_exp = np.exp(weights)\n",
    "                # weights_distr = weights_exp / weights_exp.sum()\n",
    "                weights_sum = weights.sum()\n",
    "                weights_distr = weights / weights_sum\n",
    "\n",
    "                random_jump_op = np.random.choice(jump_operators, p=weights_distr)\n",
    "\n",
    "                # apply random jump op to the state and then normalize it\n",
    "                current_state = (np.sqrt(rate) * random_jump_op).mul(current_state)\n",
    "\n",
    "                if current_state.norm() > 0:\n",
    "                    current_state = current_state.normalize()\n",
    "\n",
    "                # generate new random norm lower bound\n",
    "                norm_lb = torch.rand(1)\n",
    "                                    \n",
    "            states.append(current_state)\n",
    "\n",
    "        # if initial state is product state\n",
    "        if initial_state.is_product:\n",
    "            product_dims = initial_state.product_dims\n",
    "\n",
    "            for state in states:\n",
    "                state.is_product = True\n",
    "                state.product_dims = product_dims\n",
    "\n",
    "        trajectories.append(states)\n",
    "\n",
    "    return trajectories"
   ]
  },
  {
   "cell_type": "code",
   "execution_count": 1244,
   "metadata": {},
   "outputs": [],
   "source": [
    "trajectories = QMCT(initial_state, hamiltonian, time, Dt, jump_ops, rates, 200)"
   ]
  },
  {
   "cell_type": "code",
   "execution_count": 1245,
   "metadata": {},
   "outputs": [],
   "source": [
    "def get_averages(trajectories, operator: Operator):\n",
    "    exp_values_sum = torch.zeros(len(trajectories[0]))\n",
    "\n",
    "    for states in trajectories:\n",
    "        for i in range(len(states)):\n",
    "            if states[i].norm() > 0:\n",
    "                states[i].normalize()\n",
    "\n",
    "        exp_values = expect_val(states, operator)\n",
    "        \n",
    "        exp_values_sum += exp_values\n",
    "\n",
    "    return exp_values_sum / len(trajectories)"
   ]
  },
  {
   "cell_type": "code",
   "execution_count": 1246,
   "metadata": {},
   "outputs": [],
   "source": [
    "avaraged_exp_values = get_averages(trajectories, a_dagger * a)"
   ]
  },
  {
   "cell_type": "code",
   "execution_count": 1247,
   "metadata": {},
   "outputs": [
    {
     "data": {
      "text/plain": [
       "array([1.  , 0.95, 0.92, 0.88, 0.85, 0.83, 0.82, 0.81, 0.77, 0.68, 0.64,\n",
       "       0.6 , 0.57, 0.55, 0.5 , 0.47, 0.47, 0.44, 0.42, 0.4 , 0.4 , 0.41,\n",
       "       0.42, 0.4 , 0.38, 0.36, 0.36, 0.36, 0.35, 0.34, 0.3 , 0.31, 0.29,\n",
       "       0.29, 0.28, 0.28, 0.26, 0.28, 0.28, 0.28, 0.28, 0.28, 0.29, 0.28,\n",
       "       0.29, 0.27, 0.24, 0.23, 0.21, 0.21, 0.21, 0.22, 0.22, 0.22, 0.22,\n",
       "       0.2 , 0.16, 0.16, 0.16, 0.16, 0.14, 0.14, 0.15, 0.15, 0.15, 0.16,\n",
       "       0.16, 0.17, 0.17, 0.16, 0.16, 0.16, 0.16, 0.16, 0.17, 0.18, 0.18,\n",
       "       0.18, 0.18, 0.18, 0.16, 0.17, 0.17, 0.15, 0.14, 0.13, 0.13, 0.13,\n",
       "       0.13, 0.11, 0.09, 0.09, 0.09, 0.08, 0.08, 0.07, 0.06, 0.06, 0.07,\n",
       "       0.07])"
      ]
     },
     "execution_count": 1247,
     "metadata": {},
     "output_type": "execute_result"
    }
   ],
   "source": [
    "mc[0].expect[0]"
   ]
  },
  {
   "cell_type": "code",
   "execution_count": 1248,
   "metadata": {},
   "outputs": [
    {
     "data": {
      "text/plain": [
       "<matplotlib.legend.Legend at 0x7fc0f073f5c0>"
      ]
     },
     "execution_count": 1248,
     "metadata": {},
     "output_type": "execute_result"
    },
    {
     "data": {
      "image/png": "[encoded data removed]",
      "text/plain": [
       "<Figure size 640x480 with 1 Axes>"
      ]
     },
     "metadata": {},
     "output_type": "display_data"
    }
   ],
   "source": [
    "fig, ax = plt.subplots()\n",
    "\n",
    "ax.step(time, avaraged_exp_values, label = r\"$\\langle N \\rangle_MCT$\")\n",
    "ax.plot(time, libland_exp_val, label = r\"$\\langle N \\rangle_L$\")\n",
    "ax.step(tlist, mc[0].expect[0], \"b\", lw=2, label = \"qutip\")\n",
    "ax.axhline(y=N_ss, color=\"k\", lw=1.5, label = 'ss')\n",
    "ax.legend()"
   ]
  }
 ],
 "metadata": {
  "kernelspec": {
   "display_name": "qc_torch",
   "language": "python",
   "name": "python3"
  },
  "language_info": {
   "codemirror_mode": {
    "name": "ipython",
    "version": 3
   },
   "file_extension": ".py",
   "mimetype": "text/x-python",
   "name": "python",
   "nbconvert_exporter": "python",
   "pygments_lexer": "ipython3",
   "version": "3.12.7"
  }
 },
 "nbformat": 4,
 "nbformat_minor": 2
}
