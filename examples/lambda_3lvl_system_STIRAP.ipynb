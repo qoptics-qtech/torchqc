{
 "cells": [
  {
   "cell_type": "code",
   "execution_count": 1,
   "metadata": {},
   "outputs": [],
   "source": [
    "import numpy as np\n",
    "import torch\n",
    "\n",
    "import matplotlib.pyplot as plt\n",
    "from torchqc.states import QuantumState\n",
    "from torchqc.operators import Operator, DynamicOperator\n",
    "from torchqc.dynamics import TDSE\n",
    "from torchqc.common_functions import basis_operators"
   ]
  },
  {
   "cell_type": "markdown",
   "metadata": {},
   "source": [
    "* Start from basis state $\\ket{0}$"
   ]
  },
  {
   "cell_type": "code",
   "execution_count": 2,
   "metadata": {},
   "outputs": [],
   "source": [
    "dims = 3\n",
    "basis_states = QuantumState.basis(dims)\n",
    "state = basis_states[0]"
   ]
  },
  {
   "cell_type": "markdown",
   "metadata": {},
   "source": [
    "* Simulate dynamics with TDSE"
   ]
  },
  {
   "cell_type": "code",
   "execution_count": 3,
   "metadata": {},
   "outputs": [],
   "source": [
    "T = 250\n",
    "Dt = 0.1\n",
    "time = np.arange(0, T + Dt, Dt, dtype = np.float32)\n",
    "Ωo = 1\n",
    "Ωp = Ωo\n",
    "Ωs = Ωo\n",
    "Γ = 1"
   ]
  },
  {
   "cell_type": "code",
   "execution_count": 4,
   "metadata": {},
   "outputs": [
    {
     "data": {
      "text/plain": [
       "tensor([[[1.0000, 1.0000, 1.0000],\n",
       "         [1.0000, 1.0000, 1.0000],\n",
       "         [1.0000, 1.0000, 1.0000]],\n",
       "\n",
       "        [[1.0000, 1.0000, 1.0000],\n",
       "         [1.0000, 1.0000, 1.0000],\n",
       "         [1.0000, 1.0000, 1.0000]],\n",
       "\n",
       "        [[1.0000, 1.0000, 1.0000],\n",
       "         [1.0000, 1.0000, 1.0000],\n",
       "         [1.0000, 1.0000, 1.0000]],\n",
       "\n",
       "        ...,\n",
       "\n",
       "        [[0.0019, 0.0019, 0.0019],\n",
       "         [0.0019, 0.0019, 0.0019],\n",
       "         [0.0019, 0.0019, 0.0019]],\n",
       "\n",
       "        [[0.0019, 0.0019, 0.0019],\n",
       "         [0.0019, 0.0019, 0.0019],\n",
       "         [0.0019, 0.0019, 0.0019]],\n",
       "\n",
       "        [[0.0019, 0.0019, 0.0019],\n",
       "         [0.0019, 0.0019, 0.0019],\n",
       "         [0.0019, 0.0019, 0.0019]]])"
      ]
     },
     "execution_count": 4,
     "metadata": {},
     "output_type": "execute_result"
    }
   ],
   "source": [
    "T_tilde = 10\n",
    "to = T / 2\n",
    "time_tensor = torch.from_numpy(time).reshape(len(time), 1)\n",
    "\n",
    "Ωp = Ωo * 1 / torch.sqrt(1 + \n",
    "                         torch.exp(- (time_tensor - to) / T_tilde))\n",
    "Ωp.unsqueeze_(-1)\n",
    "Ωp.expand(len(time), dims, dims)\n",
    "\n",
    "Ωs = Ωo * 1 / torch.sqrt(1 + torch.exp((time_tensor - to) / T_tilde))\n",
    "Ωs.unsqueeze_(-1)\n",
    "Ωs.expand(len(time), dims, dims)"
   ]
  },
  {
   "cell_type": "markdown",
   "metadata": {},
   "source": [
    "* Construct Hamiltonian and simulate dynamics with TDSE"
   ]
  },
  {
   "cell_type": "code",
   "execution_count": 5,
   "metadata": {},
   "outputs": [],
   "source": [
    "projectors, transitions, labels = basis_operators(dims)\n",
    "_, proj2, _ = projectors\n",
    "trans12, trans13, trans23 = transitions\n",
    "trans21 = trans12.dagger()\n",
    "trans32 = trans23.dagger()"
   ]
  },
  {
   "cell_type": "code",
   "execution_count": 6,
   "metadata": {},
   "outputs": [],
   "source": [
    "H1_t = (Ωp / 2) * (trans12 + trans21)\n",
    "H1 = DynamicOperator(dims=dims, Ht=H1_t.matrix)\n",
    "\n",
    "H2_t = (Ωs / 2) * (trans23 + trans32)\n",
    "H2 = DynamicOperator(dims=dims, Ht=H2_t.matrix)\n",
    "\n",
    "H_loss = -1j * (Γ / 2) * proj2\n",
    "H_loss = DynamicOperator(dims, H_loss.matrix.expand(len(Ωp), -1, -1))\n",
    "\n",
    "hamiltonian = H1 + H2 + H_loss\n",
    "\n",
    "states = TDSE(state, hamiltonian, time, Dt)"
   ]
  },
  {
   "cell_type": "markdown",
   "metadata": {},
   "source": [
    "* Print Rabi oscillations"
   ]
  },
  {
   "cell_type": "code",
   "execution_count": 7,
   "metadata": {},
   "outputs": [
    {
     "data": {
      "text/plain": [
       "<matplotlib.legend.Legend at 0x7f7c06dc4620>"
      ]
     },
     "execution_count": 7,
     "metadata": {},
     "output_type": "execute_result"
    },
    {
     "data": {
      "image/png": "[encoded data removed]",
      "text/plain": [
       "<Figure size 640x480 with 1 Axes>"
      ]
     },
     "metadata": {},
     "output_type": "display_data"
    }
   ],
   "source": [
    "populations = np.array(\n",
    "    [(torch.abs(state.state_tensor)**2).numpy() \n",
    "     for state in states]\n",
    "    )\n",
    "\n",
    "fig, ax = plt.subplots()\n",
    "\n",
    "ax.plot(time, populations[:,0], label = \"P1\")\n",
    "ax.plot(time, populations[:,1], label = \"P2\")\n",
    "ax.plot(time, populations[:,2], label = \"P3\")\n",
    "ax.set_ylabel(\"Polulations\")\n",
    "ax.set_xlabel(\"t\")\n",
    "ax.legend()"
   ]
  }
 ],
 "metadata": {
  "kernelspec": {
   "display_name": "qc_torch",
   "language": "python",
   "name": "python3"
  },
  "language_info": {
   "codemirror_mode": {
    "name": "ipython",
    "version": 3
   },
   "file_extension": ".py",
   "mimetype": "text/x-python",
   "name": "python",
   "nbconvert_exporter": "python",
   "pygments_lexer": "ipython3",
   "version": "3.12.7"
  }
 },
 "nbformat": 4,
 "nbformat_minor": 2
}
