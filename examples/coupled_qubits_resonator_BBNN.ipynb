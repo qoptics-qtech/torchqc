{
 "cells": [
  {
   "cell_type": "code",
   "execution_count": null,
   "metadata": {},
   "outputs": [
    {
     "data": {
      "text/plain": [
       "<torch._C.Generator at 0x7f3d300e5830>"
      ]
     },
     "execution_count": 1,
     "metadata": {},
     "output_type": "execute_result"
    }
   ],
   "source": [
    "import numpy as np\n",
    "import torch\n",
    "import torch.nn as nn\n",
    "import matplotlib.pyplot as plt\n",
    "\n",
    "from torchqc.states import QuantumState\n",
    "from torchqc.common_functions import get_density_matrix, fidelity\n",
    "from torchqc.operators import DynamicOperator\n",
    "from torchqc.common_matrices import annihilation, creation, eye, sigmaMinus, sigmaPlus\n",
    "from torchqc.dynamics import TDSE\n",
    "from torchqc.tensor_product import tensor_product_ops, tensor_product_states, partial_trace\n",
    "\n",
    "torch.manual_seed(1989)"
   ]
  },
  {
   "cell_type": "markdown",
   "metadata": {},
   "source": [
    "* Define Neural Network"
   ]
  },
  {
   "cell_type": "code",
   "execution_count": 2,
   "metadata": {},
   "outputs": [],
   "source": [
    "Ωo = 1\n",
    "max_control = 1.\n",
    "\n",
    "class NeuralNet(nn.Module):\n",
    "    def __init__(self, hidden_size, nb_hidden_layers = 2, input_size = 1, output_size = 1, activation_fn = nn.Tanh):\n",
    "        super(NeuralNet, self).__init__()\n",
    "\n",
    "        self.nb_hidden_layers = nb_hidden_layers\n",
    "        self.hidden_layers = []\n",
    "        self.hidden_act_layers = []\n",
    "\n",
    "        # input layer\n",
    "        self.input_layer = nn.Linear(input_size, hidden_size)\n",
    "        self.relu_input = activation_fn()\n",
    "\n",
    "        # hidden layers\n",
    "        for layer in range(nb_hidden_layers):\n",
    "            new_layer = nn.Linear(hidden_size, hidden_size)\n",
    "            self.hidden_layers.append(new_layer)\n",
    "            self.hidden_act_layers.append(activation_fn())\n",
    "            \n",
    "            # hidden layer parameters should be registered\n",
    "            self.register_parameter(f\"weights_{layer}\", new_layer.weight)\n",
    "            self.register_parameter(f\"bias_{layer}\", new_layer.bias)\n",
    "\n",
    "        # output layer\n",
    "        self.output_layer = nn.Linear(hidden_size, output_size)\n",
    "\n",
    "    def forward(self, x):\n",
    "        out = self.input_layer(x)\n",
    "        out = self.relu_input(out)\n",
    "\n",
    "        for layer in range(self.nb_hidden_layers):\n",
    "            out = self.hidden_layers[layer](out)\n",
    "            out = self.hidden_act_layers[layer](out)\n",
    "\n",
    "        out = self.output_layer(out)\n",
    "        out = torch.clip(input=out, min=-max_control, max=max_control)\n",
    "\n",
    "        return out"
   ]
  },
  {
   "cell_type": "code",
   "execution_count": 3,
   "metadata": {},
   "outputs": [],
   "source": [
    "class Sin(nn.Module):\n",
    "    \"\"\"The sin activation function.\n",
    "    \"\"\"\n",
    "\n",
    "    def __init__(self):\n",
    "        \"\"\"Initializer method.\n",
    "        \"\"\"\n",
    "        super().__init__()\n",
    "\n",
    "    def forward(self, input_):\n",
    "        return torch.sin(input_)"
   ]
  },
  {
   "cell_type": "markdown",
   "metadata": {},
   "source": [
    "* Start from basis state $\\ket{0}$"
   ]
  },
  {
   "cell_type": "code",
   "execution_count": 4,
   "metadata": {},
   "outputs": [],
   "source": [
    "N = 10 # resonator modes\n",
    "n = 2\n",
    "# tensor product of two qubits and a resonator mode\n",
    "total_dims = n * n * n * N\n",
    "\n",
    "qubit_states_basis = QuantumState.basis(n)\n",
    "resonator_basis_states = QuantumState.basis(N)\n",
    "\n",
    "qubit1_state = qubit_states_basis[0]\n",
    "qubit2_state = qubit_states_basis[1]\n",
    "qubit3_state = qubit_states_basis[0]\n",
    "resonator_state = resonator_basis_states[0]\n",
    "\n",
    "initial_state = tensor_product_states(qubit1_state, qubit2_state, qubit3_state, resonator_state)\n",
    "target_state = (1 / np.sqrt(2)) * (tensor_product_states(qubit_states_basis[0], qubit_states_basis[0], qubit_states_basis[0]) + tensor_product_states(qubit_states_basis[1], qubit_states_basis[1], qubit_states_basis[1]))\n",
    "target_state = get_density_matrix(target_state)"
   ]
  },
  {
   "cell_type": "markdown",
   "metadata": {},
   "source": [
    "* Simulate dynamics with TDSE"
   ]
  },
  {
   "cell_type": "code",
   "execution_count": 5,
   "metadata": {},
   "outputs": [],
   "source": [
    "τ = 1\n",
    "T = 8 * τ\n",
    "Dt = 0.1 * τ\n",
    "time = np.arange(0, T, Dt, dtype = np.float32)\n",
    "time_tensor = torch.from_numpy(time).reshape(len(time), 1)"
   ]
  },
  {
   "cell_type": "code",
   "execution_count": 6,
   "metadata": {},
   "outputs": [],
   "source": [
    "BBNN = NeuralNet(hidden_size=150, input_size=1, output_size=4, nb_hidden_layers=4, activation_fn=Sin)"
   ]
  },
  {
   "cell_type": "markdown",
   "metadata": {},
   "source": [
    "* Construct Hamiltonian and define loss function\n",
    "\n",
    "$H = \\sum_{j=1}^3 g_j(t) (a^\\dagger \\sigma^-_j + a \\sigma^+_j) + \\xi(t) (a + a^\\dagger) $"
   ]
  },
  {
   "cell_type": "code",
   "execution_count": 7,
   "metadata": {},
   "outputs": [],
   "source": [
    "def quantum_simulation(u_pred):\n",
    "    a_dagger = creation(N)\n",
    "    a = annihilation(N)\n",
    "    sm = sigmaMinus()\n",
    "    sp = sigmaPlus()\n",
    "\n",
    "    g1 = u_pred[:, 0:1]\n",
    "    g1.unsqueeze_(-1)\n",
    "    g1.expand(len(time), total_dims, total_dims)\n",
    "\n",
    "    g2 = u_pred[:, 1:2]\n",
    "    g2.unsqueeze_(-1)\n",
    "    g2.expand(len(time), total_dims, total_dims)\n",
    "\n",
    "    g3 = u_pred[:, 2:3]\n",
    "    g3.unsqueeze_(-1)\n",
    "    g3.expand(len(time), total_dims, total_dims)\n",
    "\n",
    "    ξ = u_pred[:, 3:4]\n",
    "    ξ.unsqueeze_(-1)\n",
    "    ξ.expand(len(time), total_dims, total_dims)\n",
    "\n",
    "    H1 = g1 * (tensor_product_ops(sm, eye(n), eye(n), a_dagger) + tensor_product_ops(sp, eye(n), eye(n), a)) \\\n",
    "    + g2 * (tensor_product_ops(eye(n), sm, eye(n), a_dagger) + tensor_product_ops(eye(n), sp, eye(n), a)) \\\n",
    "        + g3 * (tensor_product_ops(eye(n), eye(n), sm, a_dagger) + tensor_product_ops(eye(n), eye(n), sp, a))\n",
    "\n",
    "    H2 = ξ * tensor_product_ops(eye(n), eye(n), eye(n), a_dagger + a)\n",
    "\n",
    "    H = H1 + H2\n",
    "\n",
    "    hamiltonian = DynamicOperator(total_dims, H.matrix)\n",
    "    states = TDSE(initial_state, hamiltonian, time, Dt)\n",
    "\n",
    "    return states\n",
    "\n",
    "def criterion_fidelity_custom(u_pred):\n",
    "    states = quantum_simulation(u_pred)\n",
    "    \n",
    "    achieved_state = states[-1]\n",
    "    achieved_rho = get_density_matrix(achieved_state)\n",
    "    reduced_achieved_state = partial_trace(achieved_rho, [3])\n",
    "\n",
    "    infidelity = 1 - fidelity(reduced_achieved_state, target_state)\n",
    "\n",
    "    return infidelity"
   ]
  },
  {
   "cell_type": "markdown",
   "metadata": {},
   "source": [
    "* Training loop of the Deep NN using the defined objective function"
   ]
  },
  {
   "cell_type": "code",
   "execution_count": 8,
   "metadata": {},
   "outputs": [],
   "source": [
    "def training(learning_rate=1e-3, iterations=100):\n",
    "    losses = []\n",
    "    loss_threshold = 1e-4\n",
    "\n",
    "    BBNN.train()\n",
    "\n",
    "    optimizer = torch.optim.Adam(BBNN.parameters(), lr=learning_rate)\n",
    "    print_interval = 10\n",
    "    num_epochs = 0\n",
    "\n",
    "    # while loss_float >= loss_threshold:\n",
    "    for iter in range(iterations):\n",
    "        # forward pass\n",
    "        u_pred = BBNN(time_tensor)\n",
    "\n",
    "        # calculate loss based on controls that produced by the nn\n",
    "        loss = criterion_fidelity_custom(u_pred)\n",
    "        losses.append(loss.detach().numpy())\n",
    "\n",
    "        # backpropagation\n",
    "        optimizer.zero_grad()\n",
    "        loss.backward()\n",
    "        optimizer.step()\n",
    "\n",
    "        if num_epochs % print_interval == 0:\n",
    "            print(\"Epoch = \", num_epochs, \", Infidelity = \", loss.clone().detach().numpy())\n",
    "\n",
    "        num_epochs += 1\n",
    "\n",
    "        if losses[-1] < loss_threshold:\n",
    "            break"
   ]
  },
  {
   "cell_type": "code",
   "execution_count": 9,
   "metadata": {},
   "outputs": [
    {
     "name": "stdout",
     "output_type": "stream",
     "text": [
      "Epoch =  0 , Infidelity =  0.8814894412923834\n",
      "Epoch =  10 , Infidelity =  0.8794212767667959\n",
      "Epoch =  20 , Infidelity =  0.7714553110447451\n",
      "Epoch =  30 , Infidelity =  0.4100416360960438\n",
      "Epoch =  40 , Infidelity =  0.28754517297050364\n",
      "Epoch =  50 , Infidelity =  0.2703947023113137\n",
      "Epoch =  60 , Infidelity =  0.2563390359606338\n",
      "Epoch =  70 , Infidelity =  0.24235797780036283\n",
      "Epoch =  80 , Infidelity =  0.23237617538934763\n",
      "Epoch =  90 , Infidelity =  0.26986461278203633\n",
      "Epoch =  100 , Infidelity =  0.233370166248406\n",
      "Epoch =  110 , Infidelity =  0.21761649468289523\n",
      "Epoch =  120 , Infidelity =  0.21228017366011098\n",
      "Epoch =  130 , Infidelity =  0.21722664148939064\n",
      "Epoch =  140 , Infidelity =  0.23920480356207918\n",
      "Epoch =  150 , Infidelity =  0.2146905283401599\n",
      "Epoch =  160 , Infidelity =  0.15938769020491006\n",
      "Epoch =  170 , Infidelity =  0.1497834809802041\n",
      "Epoch =  180 , Infidelity =  0.13946417474495454\n",
      "Epoch =  190 , Infidelity =  0.18202759250379974\n",
      "Epoch =  200 , Infidelity =  0.14747312401564938\n",
      "Epoch =  210 , Infidelity =  0.12827951189232123\n",
      "Epoch =  220 , Infidelity =  0.10167885598508175\n",
      "Epoch =  230 , Infidelity =  0.1578877658101343\n",
      "Epoch =  240 , Infidelity =  0.09860654556052628\n",
      "Epoch =  250 , Infidelity =  0.08066613900760378\n",
      "Epoch =  260 , Infidelity =  0.07204235233126877\n",
      "Epoch =  270 , Infidelity =  0.05131478256168431\n",
      "Epoch =  280 , Infidelity =  0.23683737840607644\n",
      "Epoch =  290 , Infidelity =  0.044712393948384666\n",
      "Epoch =  300 , Infidelity =  0.04420143380453134\n",
      "Epoch =  310 , Infidelity =  0.043754313677392576\n",
      "Epoch =  320 , Infidelity =  0.03502309692074923\n",
      "Epoch =  330 , Infidelity =  0.033412843913056656\n",
      "Epoch =  340 , Infidelity =  0.03230879202451198\n",
      "Epoch =  350 , Infidelity =  0.03219588761648717\n",
      "Epoch =  360 , Infidelity =  0.07728284775513905\n",
      "Epoch =  370 , Infidelity =  0.03275676211426015\n",
      "Epoch =  380 , Infidelity =  0.03387716204978575\n",
      "Epoch =  390 , Infidelity =  0.03602421433544334\n",
      "Epoch =  400 , Infidelity =  0.03554604796749983\n",
      "Epoch =  410 , Infidelity =  0.03558492763188248\n",
      "Epoch =  420 , Infidelity =  0.03954247157434454\n",
      "Epoch =  430 , Infidelity =  0.03149476498676296\n",
      "Epoch =  440 , Infidelity =  0.03386191599390398\n",
      "Epoch =  450 , Infidelity =  0.048290334226844256\n",
      "Epoch =  460 , Infidelity =  0.034312265096684724\n",
      "Epoch =  470 , Infidelity =  0.03733134284916817\n",
      "Epoch =  480 , Infidelity =  0.05674055829461966\n",
      "Epoch =  490 , Infidelity =  0.0384390067529351\n"
     ]
    }
   ],
   "source": [
    "training(1e-3, 500)"
   ]
  },
  {
   "cell_type": "code",
   "execution_count": 10,
   "metadata": {},
   "outputs": [
    {
     "name": "stdout",
     "output_type": "stream",
     "text": [
      "Epoch =  0 , Infidelity =  0.03187872953155679\n",
      "Epoch =  10 , Infidelity =  0.05156408137010149\n",
      "Epoch =  20 , Infidelity =  0.04077110780741422\n",
      "Epoch =  30 , Infidelity =  0.033889368986602664\n",
      "Epoch =  40 , Infidelity =  0.03126827422155665\n",
      "Epoch =  50 , Infidelity =  0.030261434940901943\n",
      "Epoch =  60 , Infidelity =  0.029715427029178287\n",
      "Epoch =  70 , Infidelity =  0.029560795290398123\n",
      "Epoch =  80 , Infidelity =  0.029518455728895887\n",
      "Epoch =  90 , Infidelity =  0.02942502742274522\n",
      "Epoch =  100 , Infidelity =  0.02935716956100176\n",
      "Epoch =  110 , Infidelity =  0.029281784278780365\n",
      "Epoch =  120 , Infidelity =  0.029204471040996438\n",
      "Epoch =  130 , Infidelity =  0.029124550296427465\n",
      "Epoch =  140 , Infidelity =  0.029040948576657954\n",
      "Epoch =  150 , Infidelity =  0.028953503520455337\n",
      "Epoch =  160 , Infidelity =  0.028862084603573313\n",
      "Epoch =  170 , Infidelity =  0.028766529510008798\n",
      "Epoch =  180 , Infidelity =  0.02866698793717526\n",
      "Epoch =  190 , Infidelity =  0.028563930172969876\n",
      "Epoch =  200 , Infidelity =  0.028456345085885015\n",
      "Epoch =  210 , Infidelity =  0.028344266877575075\n",
      "Epoch =  220 , Infidelity =  0.028228856011380588\n",
      "Epoch =  230 , Infidelity =  0.028108572591554637\n",
      "Epoch =  240 , Infidelity =  0.02798276629607377\n",
      "Epoch =  250 , Infidelity =  0.027850889708639803\n",
      "Epoch =  260 , Infidelity =  0.027712422078376764\n",
      "Epoch =  270 , Infidelity =  0.027566824398355116\n",
      "Epoch =  280 , Infidelity =  0.02741353431649185\n",
      "Epoch =  290 , Infidelity =  0.027251931783189298\n",
      "Epoch =  300 , Infidelity =  0.027086322596345802\n",
      "Epoch =  310 , Infidelity =  0.02691686235398638\n",
      "Epoch =  320 , Infidelity =  0.02674105532890414\n",
      "Epoch =  330 , Infidelity =  0.026594027061222714\n",
      "Epoch =  340 , Infidelity =  0.026673435214437102\n",
      "Epoch =  350 , Infidelity =  0.026348129254951003\n",
      "Epoch =  360 , Infidelity =  0.026099906953371388\n",
      "Epoch =  370 , Infidelity =  0.02590064727684116\n",
      "Epoch =  380 , Infidelity =  0.02571114515425399\n",
      "Epoch =  390 , Infidelity =  0.025535703576739288\n",
      "Epoch =  400 , Infidelity =  0.02536104073704426\n",
      "Epoch =  410 , Infidelity =  0.02519687830371309\n",
      "Epoch =  420 , Infidelity =  0.02565965729397679\n",
      "Epoch =  430 , Infidelity =  0.024923793750551537\n",
      "Epoch =  440 , Infidelity =  0.024789868381206448\n",
      "Epoch =  450 , Infidelity =  0.024592299962340802\n",
      "Epoch =  460 , Infidelity =  0.02438077935430627\n",
      "Epoch =  470 , Infidelity =  0.024219980982828848\n",
      "Epoch =  480 , Infidelity =  0.024069871516063213\n",
      "Epoch =  490 , Infidelity =  0.023933191103199025\n"
     ]
    }
   ],
   "source": [
    "training(1e-4, 500)"
   ]
  },
  {
   "cell_type": "code",
   "execution_count": 11,
   "metadata": {},
   "outputs": [],
   "source": [
    "with torch.no_grad():\n",
    "    u_pred = BBNN(time_tensor)\n",
    "\n",
    "    states = quantum_simulation(u_pred)\n",
    "\n",
    "    g1 = u_pred[:, 0:1].detach().numpy()\n",
    "    g1 = np.array([omega[0] for omega in g1])\n",
    "\n",
    "    g2 = u_pred[:, 1:2].detach().numpy()\n",
    "    g2 = np.array([omega[0] for omega in g2])\n",
    "\n",
    "    g3 = u_pred[:, 2:3].detach().numpy()\n",
    "    g3 = np.array([omega[0] for omega in g3])\n",
    "\n",
    "    ξ = u_pred[:, 3:4].detach().numpy()\n",
    "    ξ = np.array([omega[0] for omega in ξ])"
   ]
  },
  {
   "cell_type": "markdown",
   "metadata": {},
   "source": [
    "* Print Conctrol functions and Populations"
   ]
  },
  {
   "cell_type": "code",
   "execution_count": 12,
   "metadata": {},
   "outputs": [
    {
     "data": {
      "text/plain": [
       "<matplotlib.legend.Legend at 0x7f3c7fbd62d0>"
      ]
     },
     "execution_count": 12,
     "metadata": {},
     "output_type": "execute_result"
    },
    {
     "data": {
      "image/png": "[encoded data removed]",
      "text/plain": [
       "<Figure size 640x480 with 1 Axes>"
      ]
     },
     "metadata": {},
     "output_type": "display_data"
    }
   ],
   "source": [
    "fig, ax = plt.subplots()\n",
    "\n",
    "ax.plot(time, g1, label = r\"$g_1$\")\n",
    "ax.plot(time, g2, label = r\"$g_2$\")\n",
    "ax.plot(time, g3, label = r\"$g_3$\")\n",
    "ax.plot(time, ξ, label = r\"$\\xi$\")\n",
    "ax.set_ylim(-1.1, 1.1)\n",
    "ax.legend()"
   ]
  },
  {
   "cell_type": "code",
   "execution_count": 15,
   "metadata": {},
   "outputs": [
    {
     "data": {
      "text/plain": [
       "tensor(0.9749, dtype=torch.float64)"
      ]
     },
     "execution_count": 15,
     "metadata": {},
     "output_type": "execute_result"
    }
   ],
   "source": [
    "fidelities = torch.tensor([fidelity(partial_trace(get_density_matrix(state), [3]), target_state) for state in states])\n",
    "fidelities[-1]"
   ]
  },
  {
   "cell_type": "code",
   "execution_count": 16,
   "metadata": {},
   "outputs": [
    {
     "data": {
      "text/plain": [
       "<matplotlib.legend.Legend at 0x7f3c4d65a630>"
      ]
     },
     "execution_count": 16,
     "metadata": {},
     "output_type": "execute_result"
    },
    {
     "data": {
      "image/png": "[encoded data removed]",
      "text/plain": [
       "<Figure size 640x480 with 1 Axes>"
      ]
     },
     "metadata": {},
     "output_type": "display_data"
    }
   ],
   "source": [
    "fig, ax = plt.subplots(layout='constrained')\n",
    "\n",
    "ax.plot(time, fidelities, label=r\"Fidelity\")\n",
    "ax.legend()"
   ]
  }
 ],
 "metadata": {
  "kernelspec": {
   "display_name": "qc_torch",
   "language": "python",
   "name": "python3"
  },
  "language_info": {
   "codemirror_mode": {
    "name": "ipython",
    "version": 3
   },
   "file_extension": ".py",
   "mimetype": "text/x-python",
   "name": "python",
   "nbconvert_exporter": "python",
   "pygments_lexer": "ipython3",
   "version": "3.12.7"
  }
 },
 "nbformat": 4,
 "nbformat_minor": 2
}
